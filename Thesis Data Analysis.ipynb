{
 "cells": [
  {
   "cell_type": "markdown",
   "metadata": {},
   "source": [
    "# Thesis data generation and analysis"
   ]
  },
  {
   "cell_type": "markdown",
   "metadata": {},
   "source": [
    "## Data Generator"
   ]
  },
  {
   "cell_type": "code",
   "execution_count": 42,
   "metadata": {},
   "outputs": [],
   "source": [
    "import os\n",
    "import numpy as np\n",
    "import string\n",
    "import random\n",
    "\n",
    "import seaborn as sns; sns.set(color_codes=True)\n",
    "import matplotlib.pyplot as plt\n",
    "%matplotlib inline\n",
    "\n",
    "plt.style.use('seaborn-talk')\n",
    "sns.set_style(\"white\")\n",
    "sns.set_context(\"paper\", font_scale=1.5)\n",
    "\n",
    "np.random.seed(2424)\n",
    "\n",
    "N_SAMPLES = 10000\n",
    "\n",
    "MIN_TRANS = 100\n",
    "MAX_TRANS = 3000\n",
    "INCREMENT = 50"
   ]
  },
  {
   "cell_type": "code",
   "execution_count": 46,
   "metadata": {},
   "outputs": [],
   "source": [
    "## UTILITIES ##\n",
    "\n",
    "def random_string(length):\n",
    "    return ''.join(random.choice(string.ascii_letters) for m in range(length))\n",
    "\n",
    "def gen_string(b_length):\n",
    "    return random_string(b_length)"
   ]
  },
  {
   "cell_type": "code",
   "execution_count": 48,
   "metadata": {},
   "outputs": [],
   "source": [
    "for i in range(MIN_TRANS, MAX_TRANS, INCREMENT):\n",
    "    lengths = np.rint(np.random.uniform(900, 1100, i))\n",
    "    vfunc = np.vectorize(gen_string)\n",
    "    samples = vfunc(lengths.astype(int))\n",
    "    with open('samples/uniform_samples_' + str(i) + '.txt', 'w') as output:\n",
    "        for sample in samples:\n",
    "            output.write(sample + '\\n')"
   ]
  }
 ],
 "metadata": {
  "kernelspec": {
   "display_name": "Python 3",
   "language": "python",
   "name": "python3"
  },
  "language_info": {
   "codemirror_mode": {
    "name": "ipython",
    "version": 3
   },
   "file_extension": ".py",
   "mimetype": "text/x-python",
   "name": "python",
   "nbconvert_exporter": "python",
   "pygments_lexer": "ipython3",
   "version": "3.6.4"
  }
 },
 "nbformat": 4,
 "nbformat_minor": 2
}
